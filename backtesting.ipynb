{
 "cells": [
  {
   "cell_type": "markdown",
   "metadata": {},
   "source": [
    "# Backtesting Engine"
   ]
  },
  {
   "cell_type": "markdown",
   "metadata": {},
   "source": [
    "## Data Collection"
   ]
  },
  {
   "cell_type": "code",
   "execution_count": 62,
   "metadata": {},
   "outputs": [],
   "source": [
    "import pandas as pd\n",
    "import numpy as np\n",
    "import matplotlib.pyplot as plot"
   ]
  },
  {
   "cell_type": "code",
   "execution_count": 63,
   "metadata": {},
   "outputs": [],
   "source": [
    "data = pd.read_csv('VOL.IDXUSD_Ticks_24.03.2025-24.03.2025.csv')"
   ]
  },
  {
   "cell_type": "code",
   "execution_count": 64,
   "metadata": {},
   "outputs": [
    {
     "data": {
      "text/html": [
       "<div>\n",
       "<style scoped>\n",
       "    .dataframe tbody tr th:only-of-type {\n",
       "        vertical-align: middle;\n",
       "    }\n",
       "\n",
       "    .dataframe tbody tr th {\n",
       "        vertical-align: top;\n",
       "    }\n",
       "\n",
       "    .dataframe thead th {\n",
       "        text-align: right;\n",
       "    }\n",
       "</style>\n",
       "<table border=\"1\" class=\"dataframe\">\n",
       "  <thead>\n",
       "    <tr style=\"text-align: right;\">\n",
       "      <th></th>\n",
       "      <th>Local time</th>\n",
       "      <th>Ask</th>\n",
       "      <th>Bid</th>\n",
       "      <th>AskVolume</th>\n",
       "      <th>BidVolume</th>\n",
       "    </tr>\n",
       "  </thead>\n",
       "  <tbody>\n",
       "    <tr>\n",
       "      <th>0</th>\n",
       "      <td>24.03.2025 02:36:17.100 GMT-0400</td>\n",
       "      <td>18.93</td>\n",
       "      <td>18.72</td>\n",
       "      <td>0.006</td>\n",
       "      <td>0.006</td>\n",
       "    </tr>\n",
       "    <tr>\n",
       "      <th>1</th>\n",
       "      <td>24.03.2025 02:50:37.960 GMT-0400</td>\n",
       "      <td>18.87</td>\n",
       "      <td>18.68</td>\n",
       "      <td>0.006</td>\n",
       "      <td>0.006</td>\n",
       "    </tr>\n",
       "    <tr>\n",
       "      <th>2</th>\n",
       "      <td>24.03.2025 04:03:12.391 GMT-0400</td>\n",
       "      <td>18.83</td>\n",
       "      <td>18.62</td>\n",
       "      <td>0.006</td>\n",
       "      <td>0.006</td>\n",
       "    </tr>\n",
       "    <tr>\n",
       "      <th>3</th>\n",
       "      <td>24.03.2025 04:05:08.121 GMT-0400</td>\n",
       "      <td>18.78</td>\n",
       "      <td>18.57</td>\n",
       "      <td>0.006</td>\n",
       "      <td>0.006</td>\n",
       "    </tr>\n",
       "    <tr>\n",
       "      <th>4</th>\n",
       "      <td>24.03.2025 04:05:08.272 GMT-0400</td>\n",
       "      <td>18.82</td>\n",
       "      <td>18.63</td>\n",
       "      <td>0.006</td>\n",
       "      <td>0.006</td>\n",
       "    </tr>\n",
       "    <tr>\n",
       "      <th>5</th>\n",
       "      <td>24.03.2025 04:18:07.512 GMT-0400</td>\n",
       "      <td>18.88</td>\n",
       "      <td>18.67</td>\n",
       "      <td>0.006</td>\n",
       "      <td>0.006</td>\n",
       "    </tr>\n",
       "    <tr>\n",
       "      <th>6</th>\n",
       "      <td>24.03.2025 04:22:25.461 GMT-0400</td>\n",
       "      <td>18.83</td>\n",
       "      <td>18.62</td>\n",
       "      <td>0.006</td>\n",
       "      <td>0.006</td>\n",
       "    </tr>\n",
       "    <tr>\n",
       "      <th>7</th>\n",
       "      <td>24.03.2025 04:26:06.668 GMT-0400</td>\n",
       "      <td>18.88</td>\n",
       "      <td>18.67</td>\n",
       "      <td>0.006</td>\n",
       "      <td>0.006</td>\n",
       "    </tr>\n",
       "    <tr>\n",
       "      <th>8</th>\n",
       "      <td>24.03.2025 04:36:25.712 GMT-0400</td>\n",
       "      <td>18.83</td>\n",
       "      <td>18.62</td>\n",
       "      <td>0.006</td>\n",
       "      <td>0.006</td>\n",
       "    </tr>\n",
       "    <tr>\n",
       "      <th>9</th>\n",
       "      <td>24.03.2025 04:37:20.419 GMT-0400</td>\n",
       "      <td>18.87</td>\n",
       "      <td>18.68</td>\n",
       "      <td>0.006</td>\n",
       "      <td>0.006</td>\n",
       "    </tr>\n",
       "    <tr>\n",
       "      <th>10</th>\n",
       "      <td>24.03.2025 04:37:27.623 GMT-0400</td>\n",
       "      <td>18.88</td>\n",
       "      <td>18.62</td>\n",
       "      <td>0.006</td>\n",
       "      <td>0.006</td>\n",
       "    </tr>\n",
       "    <tr>\n",
       "      <th>11</th>\n",
       "      <td>24.03.2025 04:37:31.933 GMT-0400</td>\n",
       "      <td>18.87</td>\n",
       "      <td>18.68</td>\n",
       "      <td>0.006</td>\n",
       "      <td>0.006</td>\n",
       "    </tr>\n",
       "    <tr>\n",
       "      <th>12</th>\n",
       "      <td>24.03.2025 04:37:40.955 GMT-0400</td>\n",
       "      <td>18.82</td>\n",
       "      <td>18.63</td>\n",
       "      <td>0.006</td>\n",
       "      <td>0.006</td>\n",
       "    </tr>\n",
       "    <tr>\n",
       "      <th>13</th>\n",
       "      <td>24.03.2025 04:37:58.973 GMT-0400</td>\n",
       "      <td>18.88</td>\n",
       "      <td>18.67</td>\n",
       "      <td>0.006</td>\n",
       "      <td>0.006</td>\n",
       "    </tr>\n",
       "    <tr>\n",
       "      <th>14</th>\n",
       "      <td>24.03.2025 04:38:29.793 GMT-0400</td>\n",
       "      <td>18.88</td>\n",
       "      <td>18.62</td>\n",
       "      <td>0.006</td>\n",
       "      <td>0.006</td>\n",
       "    </tr>\n",
       "  </tbody>\n",
       "</table>\n",
       "</div>"
      ],
      "text/plain": [
       "                          Local time    Ask    Bid  AskVolume  BidVolume\n",
       "0   24.03.2025 02:36:17.100 GMT-0400  18.93  18.72      0.006      0.006\n",
       "1   24.03.2025 02:50:37.960 GMT-0400  18.87  18.68      0.006      0.006\n",
       "2   24.03.2025 04:03:12.391 GMT-0400  18.83  18.62      0.006      0.006\n",
       "3   24.03.2025 04:05:08.121 GMT-0400  18.78  18.57      0.006      0.006\n",
       "4   24.03.2025 04:05:08.272 GMT-0400  18.82  18.63      0.006      0.006\n",
       "5   24.03.2025 04:18:07.512 GMT-0400  18.88  18.67      0.006      0.006\n",
       "6   24.03.2025 04:22:25.461 GMT-0400  18.83  18.62      0.006      0.006\n",
       "7   24.03.2025 04:26:06.668 GMT-0400  18.88  18.67      0.006      0.006\n",
       "8   24.03.2025 04:36:25.712 GMT-0400  18.83  18.62      0.006      0.006\n",
       "9   24.03.2025 04:37:20.419 GMT-0400  18.87  18.68      0.006      0.006\n",
       "10  24.03.2025 04:37:27.623 GMT-0400  18.88  18.62      0.006      0.006\n",
       "11  24.03.2025 04:37:31.933 GMT-0400  18.87  18.68      0.006      0.006\n",
       "12  24.03.2025 04:37:40.955 GMT-0400  18.82  18.63      0.006      0.006\n",
       "13  24.03.2025 04:37:58.973 GMT-0400  18.88  18.67      0.006      0.006\n",
       "14  24.03.2025 04:38:29.793 GMT-0400  18.88  18.62      0.006      0.006"
      ]
     },
     "execution_count": 64,
     "metadata": {},
     "output_type": "execute_result"
    }
   ],
   "source": [
    "data.head(15)"
   ]
  },
  {
   "cell_type": "code",
   "execution_count": 65,
   "metadata": {},
   "outputs": [
    {
     "name": "stdout",
     "output_type": "stream",
     "text": [
      "<class 'pandas.core.frame.DataFrame'>\n",
      "RangeIndex: 298 entries, 0 to 297\n",
      "Data columns (total 5 columns):\n",
      " #   Column      Non-Null Count  Dtype  \n",
      "---  ------      --------------  -----  \n",
      " 0   Local time  298 non-null    object \n",
      " 1   Ask         298 non-null    float64\n",
      " 2   Bid         298 non-null    float64\n",
      " 3   AskVolume   298 non-null    float64\n",
      " 4   BidVolume   298 non-null    float64\n",
      "dtypes: float64(4), object(1)\n",
      "memory usage: 11.8+ KB\n"
     ]
    }
   ],
   "source": [
    "data.info()"
   ]
  },
  {
   "cell_type": "markdown",
   "metadata": {},
   "source": [
    "### Cleaning"
   ]
  },
  {
   "cell_type": "code",
   "execution_count": 66,
   "metadata": {},
   "outputs": [
    {
     "name": "stderr",
     "output_type": "stream",
     "text": [
      "C:\\Users\\anura\\AppData\\Local\\Temp\\ipykernel_27056\\2604741831.py:5: UserWarning: Parsing dates in %d.%m.%Y %H:%M:%S.%f GMT%z format when dayfirst=False (the default) was specified. Pass `dayfirst=True` or specify a format to silence this warning.\n",
      "  data[\"Local time\"] = pd.to_datetime(data[\"Local time\"]) #convert the local time to a proper timestamp format\n"
     ]
    }
   ],
   "source": [
    "data = data.drop_duplicates()\n",
    "\n",
    "data = data.dropna()\n",
    "\n",
    "data[\"Local time\"] = pd.to_datetime(data[\"Local time\"]) #convert the local time to a proper timestamp format\n",
    "\n",
    "data = data.dropna(subset=['Ask','Bid']) #drop rows with missing ask or bid"
   ]
  },
  {
   "cell_type": "markdown",
   "metadata": {},
   "source": [
    "### Storing cleaned data"
   ]
  },
  {
   "cell_type": "code",
   "execution_count": 67,
   "metadata": {},
   "outputs": [],
   "source": [
    "data.to_parquet('cleaned_data.parquet')"
   ]
  },
  {
   "cell_type": "code",
   "execution_count": null,
   "metadata": {},
   "outputs": [],
   "source": []
  }
 ],
 "metadata": {
  "kernelspec": {
   "display_name": "projects_env",
   "language": "python",
   "name": "python3"
  },
  "language_info": {
   "codemirror_mode": {
    "name": "ipython",
    "version": 3
   },
   "file_extension": ".py",
   "mimetype": "text/x-python",
   "name": "python",
   "nbconvert_exporter": "python",
   "pygments_lexer": "ipython3",
   "version": "3.13.2"
  }
 },
 "nbformat": 4,
 "nbformat_minor": 2
}
